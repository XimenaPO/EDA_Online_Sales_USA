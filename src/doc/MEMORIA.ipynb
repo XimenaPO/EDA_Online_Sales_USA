{
 "cells": [
  {
   "cell_type": "markdown",
   "metadata": {},
   "source": [
    "# **TÍTULO:** EDA VENTAS ONLINE USA"
   ]
  },
  {
   "cell_type": "markdown",
   "metadata": {},
   "source": [
    "## 1. RESUMEN PROYECTO"
   ]
  },
  {
   "cell_type": "markdown",
   "metadata": {},
   "source": [
    "**NOTEBOOK:** [EDA VENTAS ONLINE](../EDA_Ventas_Online_USA.ipynb)\n",
    "\n",
    "El presente EDA contiene un análisis del comportamiento de las ventas online de una empresa radicada en Estados Unidos. \n",
    "\n",
    "El conjunto de datos principal contiene información sobre las ventas producidas por la empresa en el plazo de 12 meses, desde Octubre 2020 a Septiembre 2021.\n",
    "\n",
    "Asimismo, se encuentra detallado el valor de las ventas, las fechas en las que se realizaron las mismas, las categorías de productos vendidos, edad de los clientes, el Estado donde residen los mismos, etc. \n",
    "\n",
    "Complementariamente, se utiliza un conjunto de datos secundario que contiene el ingreso promedio familiar por Estado, con el objeto de observar si hay relación entre aquellos Estados que generan más ingresos a la empresa y el poder adquisitivo de los clientes de los mismos. "
   ]
  },
  {
   "cell_type": "markdown",
   "metadata": {},
   "source": [
    "## 2. INTRODUCCIÓN"
   ]
  },
  {
   "cell_type": "markdown",
   "metadata": {},
   "source": [
    "### 2.1. CONTEXTO DEL PROYECTO: \n",
    "\n",
    "El presente proyecto lo realizo como alumna del Bootcamp de Data Science de la Universidad 'The Bridge'."
   ]
  },
  {
   "cell_type": "markdown",
   "metadata": {},
   "source": [
    "### 2.2. OBJETIVO"
   ]
  },
  {
   "cell_type": "markdown",
   "metadata": {},
   "source": [
    "El objetivo de este EDA está orientado a fines comerciales, en el sentido de averiguar por ejemplo, cuáles son las categorías de productos que mayores ingresos generan a la empresa, para ampliar quizás el stock de los mismos o continuar en la misma directiva; cuáles son los meses donde se producen más ventas, con el fin de contar con la mercadería suficiente en los meses más fuertes y asimismo, en cuáles menos, con el propósito por ejemplo, de realizar promociones y descuentos.\n",
    "\n",
    "En relación al marketing, se podría averiguar cuáles son las edades de los clientes que menos consumen para intentar atraerlos, cuáles son los Estados donde menos ventas se producen con el fin de aplicar ténicas para lograr un aumento en las mismas. "
   ]
  },
  {
   "cell_type": "markdown",
   "metadata": {},
   "source": [
    "## 3. DATOS UTILIZADOS\n"
   ]
  },
  {
   "cell_type": "markdown",
   "metadata": {},
   "source": [
    "### 3.1. DATASETS"
   ]
  },
  {
   "cell_type": "markdown",
   "metadata": {},
   "source": [
    "**Origen de Datos**: Kaggle.\n",
    "\n",
    "Los Datasets utilizados son **2** archivos *.csv*. \n",
    "- ***Online_Sales_USA.csv*** = Es el DataFrame principal. <br>\n",
    "Consta de 36 columnas y 286392 filas. <br>\n",
    "**NO** contiene datos nulos.\n",
    "\n",
    "- ***Cost_Of_Living_USA.csv*** = Es el DataFrame secundario, de donde se extraerá solo una variable para analizar con el principal, y será utilizado en el Punto 8.4 de este Notebook. <br>\n",
    "Solo la columna a utilizar contiene 10 datos nulos de fácil relleno.\n"
   ]
  },
  {
   "cell_type": "markdown",
   "metadata": {},
   "source": [
    "## 4. ESTRUCTURA DATAFRAMES"
   ]
  },
  {
   "cell_type": "markdown",
   "metadata": {},
   "source": [
    "### 4.1. COLUMNAS ELIMINADAS"
   ]
  },
  {
   "cell_type": "markdown",
   "metadata": {},
   "source": [
    "Conforme el análisis que se realizará y las hipótesis a resolver, he eliminado las columnas que eran irrelevantes para mi EDA. \n",
    "\n",
    "A continuación realizaré un listado y detallaré resumidamente la razón por la cual se eliminarán. \n",
    "\n",
    "1. `'order_id'` = Al no ser un análisis respecto a productos en particular (de hecho, el DataFrame no tiene nombre de producto, sino que se divide por categorías), es irrelevante para mi análisis.\n",
    "2. `'status'` = Esta columna, establecía por ejemplo, si el pedido había sido cancelado o entregado, lo cual no es relevante para mi análisis.\n",
    "3. `'item_id'` = Mismo caso que el punto 1. Al no tener el DataFrame especificaciones sobre el producto, ni analizar la venta según productos, no era necesario conseravar dicha columna. \n",
    "4. `'sku'` = Al ser un código de stock o inventario interno, no era útil para mi análisis. \n",
    "5. `'qty_ordered'` = Dicha columna contenía la cantidad de productos solicitados, para luego multiplicarlo por la columna 'price' que establecía el precio por producto. Por lo que, al no analizar los productos (por no tener detalle de los prodcutos vendidos, sino de las categorías) era irrelevante. \n",
    "6. `'price'` = Establecía el precio unitario del producto, para multiplicarlo por la cantidad solicitada, por lo que al no tener en cuenta la cantidad de productos vendidos, no era necesario conservarla. El valor total de la venta se encuentra en la columna `value`, la cual si será conservada para luego analizar el total de ventas por categorías. \n",
    "7. `'discount_amount'` = Mi análisis no comprenderá la influencia del descuento en las compras, por lo que era irrelevante. \n",
    "8. `'total'` = Esta columna comprendía el costo total de la venta, multiplicando la cantidad de productos solicitados ('qty_ordered') por su precio unitario ('price'), y restando el descuento ('discount_amount').\n",
    "9. `'payment_method'` = No se analizará las ventas según el método de pago. \n",
    "10. `'bi_st'` = Según pude evaluar, esta columna contenía datos sobre los impuestos en las ventas, si el importe era neto o bruto. Pero para no entrar en tantos detalles que no son de conocimiento como por ejemplo, los impuestos que se aplican en EEUU sobre ventas (tax), he decidido eliminarla, y que el precio total de venta (de la columna 'value'), se analice como si incluyese los impuestos.\n",
    "11. `'ref_num'` = Esta columna contenía un número de referencia pero no detallaba respecto a qué, por lo que, al no poder relacionarla con mis datos válidos para el análisis, he decidido eliminarla. \n",
    "12. `'Name Prefix'` = Establecía el prefijo del nombre del cliente, por ejemplo: Miss, Mrs. En efecto, era totalmente irrelevante para el presente análisis.\n",
    "13. `'First Name'` = La identificación de los clientes en cuanto a sus nombres, no son relevantes, por lo que he decidido eliminar esta columna como las siguientes, y reservar la columna 'cust_id' que contiene el ID de cada cliente, para una posible hipótesis en cuanto a ventas por edad, sexo, región y quizás relacionarlo en ese sentido. \n",
    "14. `'Middle Initial'` = Misma explicación que 'First Name'.\n",
    "15. `'Last Name'` = Misma explicación que 'First Name'.\n",
    "16. `'full_name'` = Misma explicación que 'First Name'.\n",
    "17. `'E Mail` = El correo electrónico es un dato personal que no será tenido en cuenta en mi análisis. \n",
    "18. `'SSN'` = Establecía el número de Seguridad Social de los clientes, por ende, al conservar la columna 'cust_id' para la identificación de los mismos, la presente ha sido eliminada.\n",
    "19. `'Phone No.'` = Es irrelevante el número de móvil de los clientes.\n",
    "20. `'Place Name'` = Luego de analizar el contenido de este columna, he decidido eliminarla ya que, es relevante para mi EDA pero contenía exactamente los mismos datos que 'city', por lo que era una repetición de la localización de las ventas. \n",
    "21. `'Zip'` = Creo que el código postal sería útil si mi EDA fuera más a nivel local o regional, pero al tratarse de un país (USA), y ya tener datos en cuanto estado y ciudad, sería demasiado detallado y específico tener en cuenta el código postal.\n",
    "22. `'User Name'` =  El nombre de usuario era irrelevante por los mismos motivos explicados en 'First Name', y para una posible correlación de ventas con usuarios, he conservado la columna 'cust_id'.\n",
    "23. `'Discount_Percent'` = Misma explicación que en 'discount_amount'. No serán tenidos en cuenta los descuentos sobre las ventas en mi EDA. \n",
    "24. `'county'` = Establecía detalles sobre los condados de EEUU, por lo que he procedido a eliminarla, ya que, la localización de las ventas se analizará en base a los estados y ciudades. \n",
    "25. `'year'` = Ya que se utilizará la columna 'order_date' para el análisis temporal. \n",
    "26. `'month'` = Igual razón que la anterior.\n",
    "27. `'gender'` = No se realizarán análisis respecto a los géneros de los clientes.\n",
    "28. `'Customer Since'` = No se analizará alguna variable en relación a desde cuando un usuario es cliente de la empresa. "
   ]
  },
  {
   "cell_type": "markdown",
   "metadata": {},
   "source": [
    "### 4.2. DESCRIPCIÓN DE COLUMNAS DEFINITIVAS"
   ]
  },
  {
   "cell_type": "markdown",
   "metadata": {},
   "source": [
    "| NOMBRE COLUMNA | DESCRIPCIÓN | TIPO DE VARIABLE |\n",
    "|----------|----------|----------|\n",
    "|fecha_de_pedido|Fecha en la que se produjo la venta|Índice - Datetime|\n",
    "|valor|Valor de cada venta|Cuantitativa, Continua|\n",
    "|categoria|Categoría de productos|Categórica, Nominal|\n",
    "|ID_cliente|Identificación del cliente|Categórica, nominal|\n",
    "|edad|Edad de los consumidores|Cuantitativa, Discreta|\n",
    "|ciudad|Ciudad desde donde se realizan los pedidos|Categórica, Nominal|\n",
    "|estado|Estado desde donde se realizan los pedidos|Categórica, Nominal|\n",
    "|region|Ciudad desde donde se realizan los pedidos|Categórica, Nominal|\n"
   ]
  },
  {
   "cell_type": "markdown",
   "metadata": {},
   "source": [
    "### 4.3. TRADUCCIONES"
   ]
  },
  {
   "cell_type": "markdown",
   "metadata": {},
   "source": [
    "Procedo a traducir las etiquetas de las columnas, los nombres de las categorías y los puntos cardinales contenidos en la columna region, ya que se encuentran en inglés.\n",
    "\n",
    "Como así también, algunos valores como ser fechas, para dar uniformidad en el lenguaje del proyecto. "
   ]
  },
  {
   "cell_type": "markdown",
   "metadata": {},
   "source": [
    "### 4.4. ÍNDICE "
   ]
  },
  {
   "cell_type": "markdown",
   "metadata": {},
   "source": [
    "La columna que se utiliza como índice del DataFrame principal es la de fecha de pedido ('fecha_de_pedido'), y a su vez se convierte en objeto DateTime para mayor facilidad en su uso. "
   ]
  },
  {
   "cell_type": "markdown",
   "metadata": {},
   "source": [
    "## 5. ESTRUCTURA ANÁLISIS EXPLORATORIO DE DATOS"
   ]
  },
  {
   "cell_type": "markdown",
   "metadata": {},
   "source": [
    "**Previo a detallar resumidamente la estructura del EDA, informo que en cada punto del mismo, dependiendo el tipo de análisis, variables u otros factores, se realizan estadísticas descriptivas, gráficos de todo tipo, detección de Outliers, hipótesis estadísticas, pruebas no paramétricas y demás.** \n",
    "\n",
    "**Asimismo, cada paso del análisis se ha ido detallando en el notebook del EDA, como también se han redactado las conclusiones obtenidas mediante gráficos o estadísticas.**"
   ]
  },
  {
   "cell_type": "markdown",
   "metadata": {},
   "source": [
    "### 5.1. ANÁLISIS DE VENTAS SEGÚN CATEGORÍAS "
   ]
  },
  {
   "cell_type": "markdown",
   "metadata": {},
   "source": [
    "En este título se realizan las siguientes variables: \n",
    "1. Distribución de las ventas por categoría de productos.\n",
    "2. Ingresos obtenidos por la empresa por cada categoría.\n",
    "3. Análisis de relación entre los ingresos y cantidad de ventas generadas por cada categoría.\n",
    "4. Se realiza una prueba de correlación de Spearman - Formulación hipótesis."
   ]
  },
  {
   "cell_type": "markdown",
   "metadata": {},
   "source": [
    "### 5.2 ANÁLISIS TEMPORAL DE LAS VENTAS"
   ]
  },
  {
   "cell_type": "markdown",
   "metadata": {},
   "source": [
    "Seguidamente detallo el contenido de este punto: \n",
    "\n",
    "1. Análisis de cantidad de ventas por mes. \n",
    "2. Análisis de los ingresos obtenidos por mes.\n",
    "3. Y se analiza si hay una correlación a nivel temporal entre las variables anteriores. "
   ]
  },
  {
   "cell_type": "markdown",
   "metadata": {},
   "source": [
    "### 5.3. ANÁLISIS DE LAS VENTAS EN RELACIÓN A LA EDAD DE LOS CONSUMIDORES.\n"
   ]
  },
  {
   "cell_type": "markdown",
   "metadata": {},
   "source": [
    "\n",
    "Los títulos que se encuentran de este punto son: \n",
    "1. Cantidad de ventas por rangos de edad. \n",
    "2. Preferencia de categorías según los rangos de edad de los clientes."
   ]
  },
  {
   "cell_type": "markdown",
   "metadata": {},
   "source": [
    "### 5.4. ANÁLISIS DE VENTAS RESPECTO A LOS ESTADOS DE USA Y LOS INGRESOS PROMEDIOS FAMIALIARES EN CADA UNO DE ELLOS. "
   ]
  },
  {
   "cell_type": "markdown",
   "metadata": {},
   "source": [
    "En este último título en encuentran los siguientes análisis: \n",
    "\n",
    "1. Cantidad de ingresos generados en cada Estado de USA. \n",
    "2. Análisis de cantidad de ventas (en valor usd) en relación a los ingresos promedio familiares por Estado. \n",
    "3. Prueba de Correlación de Pearson - Formulación hipótesis. "
   ]
  },
  {
   "cell_type": "markdown",
   "metadata": {},
   "source": [
    "## 6. LECCIONES Y DESAFIOS\n",
    "\n"
   ]
  },
  {
   "cell_type": "markdown",
   "metadata": {},
   "source": [
    "El mayor desafío sin dudas fue el proyecto en general, ya que es el primer EDA que realizo, como detallé en el contexto del proyecto, como alumna del Bootcamp de Data Science. \n",
    "\n",
    "En segundo lugar, por mencionar algunos desafíos en específico, las cuestiones más complejas se me presentaban a la hora de estructurar el EDA, pensar qué variables valía la pena analizar, realizar las pruebas según las hipótesis, elegir el gráfico adecuado para representar lo que estaba analizando y formular las conclusiones respecto a ello. \n",
    "\n",
    "No obstante, estoy muy contenta con el resultado obtenido :)"
   ]
  },
  {
   "cell_type": "markdown",
   "metadata": {},
   "source": [
    "## 7. FUENTES Y REFERENCIAS"
   ]
  },
  {
   "cell_type": "markdown",
   "metadata": {},
   "source": [
    "Para realizar el presente EDA, se han utilizado variadas fuentes. Entre ellas, cabe mencionar:\n",
    "- [W3Schools](https://www.w3schools.com/python/)\n",
    "- [Seaborn](https://seaborn.pydata.org/)\n",
    "- [Python Library](https://docs.python.org/3/library/index.html)"
   ]
  },
  {
   "cell_type": "markdown",
   "metadata": {},
   "source": [
    "## 8. CONTACTO PARA PREGUNTAS ADICIONALES."
   ]
  },
  {
   "cell_type": "markdown",
   "metadata": {},
   "source": [
    "**E-MAIL**: perezologneroximena@gmail.com"
   ]
  }
 ],
 "metadata": {
  "language_info": {
   "name": "python"
  }
 },
 "nbformat": 4,
 "nbformat_minor": 2
}
