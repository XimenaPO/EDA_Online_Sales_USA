{
 "cells": [
  {
   "cell_type": "markdown",
   "metadata": {},
   "source": [
    "# EDA - ANÁLISIS EXPLORATORIO DE DATOS DE VENTAS ONLINE DE UNA EMPRESA EN ESTADOS UNIDOS"
   ]
  },
  {
   "cell_type": "markdown",
   "metadata": {},
   "source": [
    "## 1. INTRODUCCIÓN"
   ]
  },
  {
   "cell_type": "markdown",
   "metadata": {},
   "source": [
    "## 2. OBJETIVO"
   ]
  },
  {
   "cell_type": "markdown",
   "metadata": {},
   "source": [
    "## 3. HIPÓTESIS"
   ]
  },
  {
   "cell_type": "markdown",
   "metadata": {},
   "source": [
    "## 4. IMPORTACIÓN DE LIBRERÍAS"
   ]
  },
  {
   "cell_type": "markdown",
   "metadata": {},
   "source": [
    "Importo las librerías que serán usadas en el presente notebook."
   ]
  },
  {
   "cell_type": "code",
   "execution_count": 2,
   "metadata": {},
   "outputs": [],
   "source": [
    "import pandas as pd\n",
    "import numpy as np\n",
    "import matplotlib.pyplot as plt\n",
    "import seaborn as sns\n",
    "from datetime import datetime"
   ]
  },
  {
   "cell_type": "markdown",
   "metadata": {},
   "source": [
    "## 5. IMPORTACIÓN DE DATASETS"
   ]
  },
  {
   "cell_type": "markdown",
   "metadata": {},
   "source": [
    "Respecto a los Datasets, usaré **2** archivos *.csv*. \n",
    "- ***Online_Sales_USA.csv*** = Es el DataFrame principal.\n",
    "- ***Cost_Of_Living_USA.csv*** = Es el DataFrame secundario, de donde se extraerá solo una variable para analizar con el principal."
   ]
  },
  {
   "cell_type": "code",
   "execution_count": 5,
   "metadata": {},
   "outputs": [
    {
     "name": "stderr",
     "output_type": "stream",
     "text": [
      "C:\\Users\\Ximena\\AppData\\Local\\Temp\\ipykernel_9728\\3037454922.py:1: DtypeWarning: Columns (0) have mixed types. Specify dtype option on import or set low_memory=False.\n",
      "  df_original = pd.read_csv('./data/1.raw/Online_Sales_USA.csv')\n"
     ]
    }
   ],
   "source": [
    "df_original = pd.read_csv('./data/1.raw/Online_Sales_USA.csv')"
   ]
  },
  {
   "cell_type": "markdown",
   "metadata": {},
   "source": [
    "## 6. ANÁLISIS GENERAL DE DATOS"
   ]
  },
  {
   "cell_type": "markdown",
   "metadata": {},
   "source": [
    "Se realiza un `.head()` para obtener una visión general respecto a las primeras filas del DataFrame y las etiquetas de las columnas. "
   ]
  },
  {
   "cell_type": "code",
   "execution_count": 6,
   "metadata": {},
   "outputs": [
    {
     "data": {
      "text/html": [
       "<div>\n",
       "<style scoped>\n",
       "    .dataframe tbody tr th:only-of-type {\n",
       "        vertical-align: middle;\n",
       "    }\n",
       "\n",
       "    .dataframe tbody tr th {\n",
       "        vertical-align: top;\n",
       "    }\n",
       "\n",
       "    .dataframe thead th {\n",
       "        text-align: right;\n",
       "    }\n",
       "</style>\n",
       "<table border=\"1\" class=\"dataframe\">\n",
       "  <thead>\n",
       "    <tr style=\"text-align: right;\">\n",
       "      <th></th>\n",
       "      <th>order_id</th>\n",
       "      <th>order_date</th>\n",
       "      <th>status</th>\n",
       "      <th>item_id</th>\n",
       "      <th>sku</th>\n",
       "      <th>qty_ordered</th>\n",
       "      <th>price</th>\n",
       "      <th>value</th>\n",
       "      <th>discount_amount</th>\n",
       "      <th>total</th>\n",
       "      <th>...</th>\n",
       "      <th>SSN</th>\n",
       "      <th>Phone No.</th>\n",
       "      <th>Place Name</th>\n",
       "      <th>County</th>\n",
       "      <th>City</th>\n",
       "      <th>State</th>\n",
       "      <th>Zip</th>\n",
       "      <th>Region</th>\n",
       "      <th>User Name</th>\n",
       "      <th>Discount_Percent</th>\n",
       "    </tr>\n",
       "  </thead>\n",
       "  <tbody>\n",
       "    <tr>\n",
       "      <th>0</th>\n",
       "      <td>100354678</td>\n",
       "      <td>2020-10-01</td>\n",
       "      <td>received</td>\n",
       "      <td>574772.0</td>\n",
       "      <td>oasis_Oasis-064-36</td>\n",
       "      <td>21.0</td>\n",
       "      <td>89.9</td>\n",
       "      <td>1798.0</td>\n",
       "      <td>0.0</td>\n",
       "      <td>1798.0</td>\n",
       "      <td>...</td>\n",
       "      <td>627-31-5251</td>\n",
       "      <td>405-959-1129</td>\n",
       "      <td>Vinson</td>\n",
       "      <td>Harmon</td>\n",
       "      <td>Vinson</td>\n",
       "      <td>OK</td>\n",
       "      <td>73571</td>\n",
       "      <td>South</td>\n",
       "      <td>jwtitus</td>\n",
       "      <td>0.0</td>\n",
       "    </tr>\n",
       "    <tr>\n",
       "      <th>1</th>\n",
       "      <td>100354678</td>\n",
       "      <td>2020-10-01</td>\n",
       "      <td>received</td>\n",
       "      <td>574774.0</td>\n",
       "      <td>Fantastic_FT-48</td>\n",
       "      <td>11.0</td>\n",
       "      <td>19.0</td>\n",
       "      <td>190.0</td>\n",
       "      <td>0.0</td>\n",
       "      <td>190.0</td>\n",
       "      <td>...</td>\n",
       "      <td>627-31-5251</td>\n",
       "      <td>405-959-1129</td>\n",
       "      <td>Vinson</td>\n",
       "      <td>Harmon</td>\n",
       "      <td>Vinson</td>\n",
       "      <td>OK</td>\n",
       "      <td>73571</td>\n",
       "      <td>South</td>\n",
       "      <td>jwtitus</td>\n",
       "      <td>0.0</td>\n",
       "    </tr>\n",
       "    <tr>\n",
       "      <th>2</th>\n",
       "      <td>100354680</td>\n",
       "      <td>2020-10-01</td>\n",
       "      <td>complete</td>\n",
       "      <td>574777.0</td>\n",
       "      <td>mdeal_DMC-610-8</td>\n",
       "      <td>9.0</td>\n",
       "      <td>149.9</td>\n",
       "      <td>1199.2</td>\n",
       "      <td>0.0</td>\n",
       "      <td>1199.2</td>\n",
       "      <td>...</td>\n",
       "      <td>627-31-5251</td>\n",
       "      <td>405-959-1129</td>\n",
       "      <td>Vinson</td>\n",
       "      <td>Harmon</td>\n",
       "      <td>Vinson</td>\n",
       "      <td>OK</td>\n",
       "      <td>73571</td>\n",
       "      <td>South</td>\n",
       "      <td>jwtitus</td>\n",
       "      <td>0.0</td>\n",
       "    </tr>\n",
       "    <tr>\n",
       "      <th>3</th>\n",
       "      <td>100354680</td>\n",
       "      <td>2020-10-01</td>\n",
       "      <td>complete</td>\n",
       "      <td>574779.0</td>\n",
       "      <td>oasis_Oasis-061-36</td>\n",
       "      <td>9.0</td>\n",
       "      <td>79.9</td>\n",
       "      <td>639.2</td>\n",
       "      <td>0.0</td>\n",
       "      <td>639.2</td>\n",
       "      <td>...</td>\n",
       "      <td>627-31-5251</td>\n",
       "      <td>405-959-1129</td>\n",
       "      <td>Vinson</td>\n",
       "      <td>Harmon</td>\n",
       "      <td>Vinson</td>\n",
       "      <td>OK</td>\n",
       "      <td>73571</td>\n",
       "      <td>South</td>\n",
       "      <td>jwtitus</td>\n",
       "      <td>0.0</td>\n",
       "    </tr>\n",
       "    <tr>\n",
       "      <th>4</th>\n",
       "      <td>100367357</td>\n",
       "      <td>2020-11-13</td>\n",
       "      <td>received</td>\n",
       "      <td>595185.0</td>\n",
       "      <td>MEFNAR59C38B6CA08CD</td>\n",
       "      <td>2.0</td>\n",
       "      <td>99.9</td>\n",
       "      <td>99.9</td>\n",
       "      <td>0.0</td>\n",
       "      <td>99.9</td>\n",
       "      <td>...</td>\n",
       "      <td>627-31-5251</td>\n",
       "      <td>405-959-1129</td>\n",
       "      <td>Vinson</td>\n",
       "      <td>Harmon</td>\n",
       "      <td>Vinson</td>\n",
       "      <td>OK</td>\n",
       "      <td>73571</td>\n",
       "      <td>South</td>\n",
       "      <td>jwtitus</td>\n",
       "      <td>0.0</td>\n",
       "    </tr>\n",
       "  </tbody>\n",
       "</table>\n",
       "<p>5 rows × 36 columns</p>\n",
       "</div>"
      ],
      "text/plain": [
       "    order_id  order_date    status   item_id                  sku  \\\n",
       "0  100354678  2020-10-01  received  574772.0   oasis_Oasis-064-36   \n",
       "1  100354678  2020-10-01  received  574774.0      Fantastic_FT-48   \n",
       "2  100354680  2020-10-01  complete  574777.0      mdeal_DMC-610-8   \n",
       "3  100354680  2020-10-01  complete  574779.0   oasis_Oasis-061-36   \n",
       "4  100367357  2020-11-13  received  595185.0  MEFNAR59C38B6CA08CD   \n",
       "\n",
       "   qty_ordered  price   value  discount_amount   total  ...          SSN  \\\n",
       "0         21.0   89.9  1798.0              0.0  1798.0  ...  627-31-5251   \n",
       "1         11.0   19.0   190.0              0.0   190.0  ...  627-31-5251   \n",
       "2          9.0  149.9  1199.2              0.0  1199.2  ...  627-31-5251   \n",
       "3          9.0   79.9   639.2              0.0   639.2  ...  627-31-5251   \n",
       "4          2.0   99.9    99.9              0.0    99.9  ...  627-31-5251   \n",
       "\n",
       "     Phone No.  Place Name  County    City State    Zip Region User Name  \\\n",
       "0  405-959-1129     Vinson  Harmon  Vinson    OK  73571  South   jwtitus   \n",
       "1  405-959-1129     Vinson  Harmon  Vinson    OK  73571  South   jwtitus   \n",
       "2  405-959-1129     Vinson  Harmon  Vinson    OK  73571  South   jwtitus   \n",
       "3  405-959-1129     Vinson  Harmon  Vinson    OK  73571  South   jwtitus   \n",
       "4  405-959-1129     Vinson  Harmon  Vinson    OK  73571  South   jwtitus   \n",
       "\n",
       "  Discount_Percent  \n",
       "0              0.0  \n",
       "1              0.0  \n",
       "2              0.0  \n",
       "3              0.0  \n",
       "4              0.0  \n",
       "\n",
       "[5 rows x 36 columns]"
      ]
     },
     "execution_count": 6,
     "metadata": {},
     "output_type": "execute_result"
    }
   ],
   "source": [
    "df_original.head()"
   ]
  },
  {
   "cell_type": "markdown",
   "metadata": {},
   "source": [
    "Con `.info()` obtenemos información general del conjunto de datos, como por ejemplo, cantidad de columnas y filas, el tipo de dato según los valores de cada columna, la cantidad de datos no nulos, etc. "
   ]
  },
  {
   "cell_type": "code",
   "execution_count": 7,
   "metadata": {},
   "outputs": [
    {
     "name": "stdout",
     "output_type": "stream",
     "text": [
      "<class 'pandas.core.frame.DataFrame'>\n",
      "RangeIndex: 286392 entries, 0 to 286391\n",
      "Data columns (total 36 columns):\n",
      " #   Column            Non-Null Count   Dtype  \n",
      "---  ------            --------------   -----  \n",
      " 0   order_id          286392 non-null  object \n",
      " 1   order_date        286392 non-null  object \n",
      " 2   status            286392 non-null  object \n",
      " 3   item_id           286392 non-null  float64\n",
      " 4   sku               286392 non-null  object \n",
      " 5   qty_ordered       286392 non-null  float64\n",
      " 6   price             286392 non-null  float64\n",
      " 7   value             286392 non-null  float64\n",
      " 8   discount_amount   286392 non-null  float64\n",
      " 9   total             286392 non-null  float64\n",
      " 10  category          286392 non-null  object \n",
      " 11  payment_method    286392 non-null  object \n",
      " 12  bi_st             286392 non-null  object \n",
      " 13  cust_id           286392 non-null  float64\n",
      " 14  year              286392 non-null  int64  \n",
      " 15  month             286392 non-null  object \n",
      " 16  ref_num           286392 non-null  int64  \n",
      " 17  Name Prefix       286392 non-null  object \n",
      " 18  First Name        286392 non-null  object \n",
      " 19  Middle Initial    286392 non-null  object \n",
      " 20  Last Name         286392 non-null  object \n",
      " 21  Gender            286392 non-null  object \n",
      " 22  age               286392 non-null  float64\n",
      " 23  full_name         286392 non-null  object \n",
      " 24  E Mail            286392 non-null  object \n",
      " 25  Customer Since    286392 non-null  object \n",
      " 26  SSN               286392 non-null  object \n",
      " 27  Phone No.         286392 non-null  object \n",
      " 28  Place Name        286392 non-null  object \n",
      " 29  County            286392 non-null  object \n",
      " 30  City              286392 non-null  object \n",
      " 31  State             286392 non-null  object \n",
      " 32  Zip               286392 non-null  int64  \n",
      " 33  Region            286392 non-null  object \n",
      " 34  User Name         286392 non-null  object \n",
      " 35  Discount_Percent  286392 non-null  float64\n",
      "dtypes: float64(9), int64(3), object(24)\n",
      "memory usage: 78.7+ MB\n"
     ]
    }
   ],
   "source": [
    "df_original.info()"
   ]
  },
  {
   "cell_type": "markdown",
   "metadata": {},
   "source": [
    "Realizo un `.describe()` para obtener un breve análisis estadístico de las variables númericas: "
   ]
  },
  {
   "cell_type": "code",
   "execution_count": 8,
   "metadata": {},
   "outputs": [
    {
     "data": {
      "text/html": [
       "<div>\n",
       "<style scoped>\n",
       "    .dataframe tbody tr th:only-of-type {\n",
       "        vertical-align: middle;\n",
       "    }\n",
       "\n",
       "    .dataframe tbody tr th {\n",
       "        vertical-align: top;\n",
       "    }\n",
       "\n",
       "    .dataframe thead th {\n",
       "        text-align: right;\n",
       "    }\n",
       "</style>\n",
       "<table border=\"1\" class=\"dataframe\">\n",
       "  <thead>\n",
       "    <tr style=\"text-align: right;\">\n",
       "      <th></th>\n",
       "      <th>item_id</th>\n",
       "      <th>qty_ordered</th>\n",
       "      <th>price</th>\n",
       "      <th>value</th>\n",
       "      <th>discount_amount</th>\n",
       "      <th>total</th>\n",
       "      <th>cust_id</th>\n",
       "      <th>year</th>\n",
       "      <th>ref_num</th>\n",
       "      <th>age</th>\n",
       "      <th>Zip</th>\n",
       "      <th>Discount_Percent</th>\n",
       "    </tr>\n",
       "  </thead>\n",
       "  <tbody>\n",
       "    <tr>\n",
       "      <th>count</th>\n",
       "      <td>286392.000000</td>\n",
       "      <td>286392.000000</td>\n",
       "      <td>286392.000000</td>\n",
       "      <td>286392.000000</td>\n",
       "      <td>286392.000000</td>\n",
       "      <td>286392.000000</td>\n",
       "      <td>286392.000000</td>\n",
       "      <td>286392.000000</td>\n",
       "      <td>286392.000000</td>\n",
       "      <td>286392.000000</td>\n",
       "      <td>286392.000000</td>\n",
       "      <td>286392.000000</td>\n",
       "    </tr>\n",
       "    <tr>\n",
       "      <th>mean</th>\n",
       "      <td>741664.902131</td>\n",
       "      <td>3.011296</td>\n",
       "      <td>851.385253</td>\n",
       "      <td>885.879934</td>\n",
       "      <td>70.039427</td>\n",
       "      <td>815.840507</td>\n",
       "      <td>70048.019054</td>\n",
       "      <td>2020.618778</td>\n",
       "      <td>560853.663395</td>\n",
       "      <td>46.489033</td>\n",
       "      <td>49723.160015</td>\n",
       "      <td>6.069079</td>\n",
       "    </tr>\n",
       "    <tr>\n",
       "      <th>std</th>\n",
       "      <td>95746.031827</td>\n",
       "      <td>4.573837</td>\n",
       "      <td>1741.750751</td>\n",
       "      <td>2073.252179</td>\n",
       "      <td>256.880870</td>\n",
       "      <td>1983.580302</td>\n",
       "      <td>30243.856395</td>\n",
       "      <td>0.485688</td>\n",
       "      <td>255828.418398</td>\n",
       "      <td>16.673288</td>\n",
       "      <td>27597.198873</td>\n",
       "      <td>10.100100</td>\n",
       "    </tr>\n",
       "    <tr>\n",
       "      <th>min</th>\n",
       "      <td>574769.000000</td>\n",
       "      <td>1.000000</td>\n",
       "      <td>0.000000</td>\n",
       "      <td>0.000000</td>\n",
       "      <td>0.000000</td>\n",
       "      <td>0.000000</td>\n",
       "      <td>4.000000</td>\n",
       "      <td>2020.000000</td>\n",
       "      <td>111127.000000</td>\n",
       "      <td>18.000000</td>\n",
       "      <td>210.000000</td>\n",
       "      <td>0.000000</td>\n",
       "    </tr>\n",
       "    <tr>\n",
       "      <th>25%</th>\n",
       "      <td>659684.500000</td>\n",
       "      <td>2.000000</td>\n",
       "      <td>49.900000</td>\n",
       "      <td>49.900000</td>\n",
       "      <td>0.000000</td>\n",
       "      <td>49.900000</td>\n",
       "      <td>56519.000000</td>\n",
       "      <td>2020.000000</td>\n",
       "      <td>341265.000000</td>\n",
       "      <td>32.000000</td>\n",
       "      <td>26571.750000</td>\n",
       "      <td>0.000000</td>\n",
       "    </tr>\n",
       "    <tr>\n",
       "      <th>50%</th>\n",
       "      <td>742309.000000</td>\n",
       "      <td>2.000000</td>\n",
       "      <td>119.000000</td>\n",
       "      <td>158.970000</td>\n",
       "      <td>0.000000</td>\n",
       "      <td>149.800000</td>\n",
       "      <td>74225.500000</td>\n",
       "      <td>2021.000000</td>\n",
       "      <td>564857.000000</td>\n",
       "      <td>47.000000</td>\n",
       "      <td>49316.000000</td>\n",
       "      <td>0.000000</td>\n",
       "    </tr>\n",
       "    <tr>\n",
       "      <th>75%</th>\n",
       "      <td>826124.250000</td>\n",
       "      <td>3.000000</td>\n",
       "      <td>950.000000</td>\n",
       "      <td>910.000000</td>\n",
       "      <td>18.383050</td>\n",
       "      <td>800.000000</td>\n",
       "      <td>92357.000000</td>\n",
       "      <td>2021.000000</td>\n",
       "      <td>781086.000000</td>\n",
       "      <td>61.000000</td>\n",
       "      <td>72645.000000</td>\n",
       "      <td>11.000000</td>\n",
       "    </tr>\n",
       "    <tr>\n",
       "      <th>max</th>\n",
       "      <td>905208.000000</td>\n",
       "      <td>501.000000</td>\n",
       "      <td>101262.590000</td>\n",
       "      <td>101262.590000</td>\n",
       "      <td>30213.150000</td>\n",
       "      <td>101262.590000</td>\n",
       "      <td>115326.000000</td>\n",
       "      <td>2021.000000</td>\n",
       "      <td>999981.000000</td>\n",
       "      <td>75.000000</td>\n",
       "      <td>99950.000000</td>\n",
       "      <td>75.000000</td>\n",
       "    </tr>\n",
       "  </tbody>\n",
       "</table>\n",
       "</div>"
      ],
      "text/plain": [
       "             item_id    qty_ordered          price          value  \\\n",
       "count  286392.000000  286392.000000  286392.000000  286392.000000   \n",
       "mean   741664.902131       3.011296     851.385253     885.879934   \n",
       "std     95746.031827       4.573837    1741.750751    2073.252179   \n",
       "min    574769.000000       1.000000       0.000000       0.000000   \n",
       "25%    659684.500000       2.000000      49.900000      49.900000   \n",
       "50%    742309.000000       2.000000     119.000000     158.970000   \n",
       "75%    826124.250000       3.000000     950.000000     910.000000   \n",
       "max    905208.000000     501.000000  101262.590000  101262.590000   \n",
       "\n",
       "       discount_amount          total        cust_id           year  \\\n",
       "count    286392.000000  286392.000000  286392.000000  286392.000000   \n",
       "mean         70.039427     815.840507   70048.019054    2020.618778   \n",
       "std         256.880870    1983.580302   30243.856395       0.485688   \n",
       "min           0.000000       0.000000       4.000000    2020.000000   \n",
       "25%           0.000000      49.900000   56519.000000    2020.000000   \n",
       "50%           0.000000     149.800000   74225.500000    2021.000000   \n",
       "75%          18.383050     800.000000   92357.000000    2021.000000   \n",
       "max       30213.150000  101262.590000  115326.000000    2021.000000   \n",
       "\n",
       "             ref_num            age            Zip  Discount_Percent  \n",
       "count  286392.000000  286392.000000  286392.000000     286392.000000  \n",
       "mean   560853.663395      46.489033   49723.160015          6.069079  \n",
       "std    255828.418398      16.673288   27597.198873         10.100100  \n",
       "min    111127.000000      18.000000     210.000000          0.000000  \n",
       "25%    341265.000000      32.000000   26571.750000          0.000000  \n",
       "50%    564857.000000      47.000000   49316.000000          0.000000  \n",
       "75%    781086.000000      61.000000   72645.000000         11.000000  \n",
       "max    999981.000000      75.000000   99950.000000         75.000000  "
      ]
     },
     "execution_count": 8,
     "metadata": {},
     "output_type": "execute_result"
    }
   ],
   "source": [
    "df_original.describe()"
   ]
  },
  {
   "cell_type": "markdown",
   "metadata": {},
   "source": [
    "Análisis estadístico de variables no numéricas:"
   ]
  },
  {
   "cell_type": "code",
   "execution_count": 9,
   "metadata": {},
   "outputs": [
    {
     "data": {
      "text/html": [
       "<div>\n",
       "<style scoped>\n",
       "    .dataframe tbody tr th:only-of-type {\n",
       "        vertical-align: middle;\n",
       "    }\n",
       "\n",
       "    .dataframe tbody tr th {\n",
       "        vertical-align: top;\n",
       "    }\n",
       "\n",
       "    .dataframe thead th {\n",
       "        text-align: right;\n",
       "    }\n",
       "</style>\n",
       "<table border=\"1\" class=\"dataframe\">\n",
       "  <thead>\n",
       "    <tr style=\"text-align: right;\">\n",
       "      <th></th>\n",
       "      <th>order_id</th>\n",
       "      <th>order_date</th>\n",
       "      <th>status</th>\n",
       "      <th>sku</th>\n",
       "      <th>category</th>\n",
       "      <th>payment_method</th>\n",
       "      <th>bi_st</th>\n",
       "      <th>month</th>\n",
       "      <th>Name Prefix</th>\n",
       "      <th>First Name</th>\n",
       "      <th>...</th>\n",
       "      <th>E Mail</th>\n",
       "      <th>Customer Since</th>\n",
       "      <th>SSN</th>\n",
       "      <th>Phone No.</th>\n",
       "      <th>Place Name</th>\n",
       "      <th>County</th>\n",
       "      <th>City</th>\n",
       "      <th>State</th>\n",
       "      <th>Region</th>\n",
       "      <th>User Name</th>\n",
       "    </tr>\n",
       "  </thead>\n",
       "  <tbody>\n",
       "    <tr>\n",
       "      <th>count</th>\n",
       "      <td>286392</td>\n",
       "      <td>286392</td>\n",
       "      <td>286392</td>\n",
       "      <td>286392</td>\n",
       "      <td>286392</td>\n",
       "      <td>286392</td>\n",
       "      <td>286392</td>\n",
       "      <td>286392</td>\n",
       "      <td>286392</td>\n",
       "      <td>286392</td>\n",
       "      <td>...</td>\n",
       "      <td>286392</td>\n",
       "      <td>286392</td>\n",
       "      <td>286392</td>\n",
       "      <td>286392</td>\n",
       "      <td>286392</td>\n",
       "      <td>286392</td>\n",
       "      <td>286392</td>\n",
       "      <td>286392</td>\n",
       "      <td>286392</td>\n",
       "      <td>286392</td>\n",
       "    </tr>\n",
       "    <tr>\n",
       "      <th>unique</th>\n",
       "      <td>201716</td>\n",
       "      <td>365</td>\n",
       "      <td>13</td>\n",
       "      <td>47932</td>\n",
       "      <td>15</td>\n",
       "      <td>13</td>\n",
       "      <td>3</td>\n",
       "      <td>12</td>\n",
       "      <td>7</td>\n",
       "      <td>5161</td>\n",
       "      <td>...</td>\n",
       "      <td>64246</td>\n",
       "      <td>11647</td>\n",
       "      <td>64146</td>\n",
       "      <td>64248</td>\n",
       "      <td>15892</td>\n",
       "      <td>2551</td>\n",
       "      <td>15892</td>\n",
       "      <td>51</td>\n",
       "      <td>4</td>\n",
       "      <td>64006</td>\n",
       "    </tr>\n",
       "    <tr>\n",
       "      <th>top</th>\n",
       "      <td>100476608</td>\n",
       "      <td>2020-12-20</td>\n",
       "      <td>canceled</td>\n",
       "      <td>MATSAM59DB75ADB2F80</td>\n",
       "      <td>Mobiles &amp; Tablets</td>\n",
       "      <td>cod</td>\n",
       "      <td>Gross</td>\n",
       "      <td>Dec-2020</td>\n",
       "      <td>Mr.</td>\n",
       "      <td>Joel</td>\n",
       "      <td>...</td>\n",
       "      <td>joel.gonzalez@yahoo.com</td>\n",
       "      <td>11/30/2005</td>\n",
       "      <td>668-48-2887</td>\n",
       "      <td>217-861-7640</td>\n",
       "      <td>Dekalb</td>\n",
       "      <td>Jefferson</td>\n",
       "      <td>Dekalb</td>\n",
       "      <td>TX</td>\n",
       "      <td>South</td>\n",
       "      <td>jugonzalez</td>\n",
       "    </tr>\n",
       "    <tr>\n",
       "      <th>freq</th>\n",
       "      <td>43</td>\n",
       "      <td>13678</td>\n",
       "      <td>112166</td>\n",
       "      <td>3775</td>\n",
       "      <td>61761</td>\n",
       "      <td>102916</td>\n",
       "      <td>112333</td>\n",
       "      <td>82528</td>\n",
       "      <td>103506</td>\n",
       "      <td>2895</td>\n",
       "      <td>...</td>\n",
       "      <td>2524</td>\n",
       "      <td>2536</td>\n",
       "      <td>2524</td>\n",
       "      <td>2524</td>\n",
       "      <td>2525</td>\n",
       "      <td>3510</td>\n",
       "      <td>2525</td>\n",
       "      <td>17510</td>\n",
       "      <td>103482</td>\n",
       "      <td>2524</td>\n",
       "    </tr>\n",
       "  </tbody>\n",
       "</table>\n",
       "<p>4 rows × 24 columns</p>\n",
       "</div>"
      ],
      "text/plain": [
       "         order_id  order_date    status                  sku  \\\n",
       "count      286392      286392    286392               286392   \n",
       "unique     201716         365        13                47932   \n",
       "top     100476608  2020-12-20  canceled  MATSAM59DB75ADB2F80   \n",
       "freq           43       13678    112166                 3775   \n",
       "\n",
       "                 category payment_method   bi_st     month Name Prefix  \\\n",
       "count              286392         286392  286392    286392      286392   \n",
       "unique                 15             13       3        12           7   \n",
       "top     Mobiles & Tablets            cod   Gross  Dec-2020         Mr.   \n",
       "freq                61761         102916  112333     82528      103506   \n",
       "\n",
       "       First Name  ...                   E Mail Customer Since          SSN  \\\n",
       "count      286392  ...                   286392         286392       286392   \n",
       "unique       5161  ...                    64246          11647        64146   \n",
       "top          Joel  ...  joel.gonzalez@yahoo.com     11/30/2005  668-48-2887   \n",
       "freq         2895  ...                     2524           2536         2524   \n",
       "\n",
       "          Phone No.  Place Name     County    City   State  Region   User Name  \n",
       "count         286392     286392     286392  286392  286392  286392      286392  \n",
       "unique         64248      15892       2551   15892      51       4       64006  \n",
       "top     217-861-7640     Dekalb  Jefferson  Dekalb      TX   South  jugonzalez  \n",
       "freq            2524       2525       3510    2525   17510  103482        2524  \n",
       "\n",
       "[4 rows x 24 columns]"
      ]
     },
     "execution_count": 9,
     "metadata": {},
     "output_type": "execute_result"
    }
   ],
   "source": [
    "df_original.describe(include=object)"
   ]
  },
  {
   "cell_type": "markdown",
   "metadata": {},
   "source": [
    "Seguidamente obtenemos la dimensión del DataFrame con `.shape()`, lo cual devuelve la cantidad de filas y columnas."
   ]
  },
  {
   "cell_type": "code",
   "execution_count": 11,
   "metadata": {},
   "outputs": [
    {
     "data": {
      "text/plain": [
       "(286392, 36)"
      ]
     },
     "execution_count": 11,
     "metadata": {},
     "output_type": "execute_result"
    }
   ],
   "source": [
    "df_original.shape"
   ]
  },
  {
   "cell_type": "markdown",
   "metadata": {},
   "source": [
    "Realizo un `isnull()` + `sum()` para verificar si tengo datos nulos, y la cantidad de los mismos. "
   ]
  },
  {
   "cell_type": "code",
   "execution_count": 12,
   "metadata": {},
   "outputs": [
    {
     "data": {
      "text/plain": [
       "order_id            0\n",
       "order_date          0\n",
       "status              0\n",
       "item_id             0\n",
       "sku                 0\n",
       "qty_ordered         0\n",
       "price               0\n",
       "value               0\n",
       "discount_amount     0\n",
       "total               0\n",
       "category            0\n",
       "payment_method      0\n",
       "bi_st               0\n",
       "cust_id             0\n",
       "year                0\n",
       "month               0\n",
       "ref_num             0\n",
       "Name Prefix         0\n",
       "First Name          0\n",
       "Middle Initial      0\n",
       "Last Name           0\n",
       "Gender              0\n",
       "age                 0\n",
       "full_name           0\n",
       "E Mail              0\n",
       "Customer Since      0\n",
       "SSN                 0\n",
       "Phone No.           0\n",
       "Place Name          0\n",
       "County              0\n",
       "City                0\n",
       "State               0\n",
       "Zip                 0\n",
       "Region              0\n",
       "User Name           0\n",
       "Discount_Percent    0\n",
       "dtype: int64"
      ]
     },
     "execution_count": 12,
     "metadata": {},
     "output_type": "execute_result"
    }
   ],
   "source": [
    "df_original.isnull().sum()"
   ]
  },
  {
   "cell_type": "markdown",
   "metadata": {},
   "source": [
    "Además, se verifica si hay entradas ducplicadas:"
   ]
  },
  {
   "cell_type": "code",
   "execution_count": 13,
   "metadata": {},
   "outputs": [
    {
     "data": {
      "text/plain": [
       "0"
      ]
     },
     "execution_count": 13,
     "metadata": {},
     "output_type": "execute_result"
    }
   ],
   "source": [
    "df_original.duplicated().sum()"
   ]
  },
  {
   "cell_type": "markdown",
   "metadata": {},
   "source": [
    "Y por último, realizo un `.nunique()` para observar la cantidad de valores únicos que existen por columna. "
   ]
  },
  {
   "cell_type": "code",
   "execution_count": 14,
   "metadata": {},
   "outputs": [
    {
     "data": {
      "text/plain": [
       "order_id            201716\n",
       "order_date             365\n",
       "status                  13\n",
       "item_id             286392\n",
       "sku                  47932\n",
       "qty_ordered             72\n",
       "price                 7561\n",
       "value                10814\n",
       "discount_amount      14577\n",
       "total                24451\n",
       "category                15\n",
       "payment_method          13\n",
       "bi_st                    3\n",
       "cust_id              64248\n",
       "year                     2\n",
       "month                   12\n",
       "ref_num              62065\n",
       "Name Prefix              7\n",
       "First Name            5161\n",
       "Middle Initial          26\n",
       "Last Name            18208\n",
       "Gender                   2\n",
       "age                     58\n",
       "full_name            64212\n",
       "E Mail               64246\n",
       "Customer Since       11647\n",
       "SSN                  64146\n",
       "Phone No.            64248\n",
       "Place Name           15892\n",
       "County                2551\n",
       "City                 15892\n",
       "State                   51\n",
       "Zip                  33773\n",
       "Region                   4\n",
       "User Name            64006\n",
       "Discount_Percent     17133\n",
       "dtype: int64"
      ]
     },
     "execution_count": 14,
     "metadata": {},
     "output_type": "execute_result"
    }
   ],
   "source": [
    "df_original.nunique()"
   ]
  },
  {
   "cell_type": "markdown",
   "metadata": {},
   "source": [
    "## 7. LIMPIEZA DE DATOS "
   ]
  },
  {
   "cell_type": "markdown",
   "metadata": {},
   "source": [
    "Procederé a realizar la limpieza del conjunto de datos, como por ejemplo, eliminar columnas que son irrelevantes para el análisis, modificar etiquetas de columnas para que unificar todo al idioma español, convertir la columna donde constan las fechas de pedidos en el índice y demás."
   ]
  },
  {
   "cell_type": "markdown",
   "metadata": {},
   "source": [
    "> #### **7.1. COPIA DEL CONJUNTO DE DATOS ANTES DE LA LIMPIEZA**\n",
    "\n",
    "Realizo por cuestiones de seguridad una copia de mi archivo de ventas antes de la limpieza."
   ]
  },
  {
   "cell_type": "code",
   "execution_count": 15,
   "metadata": {},
   "outputs": [],
   "source": [
    "df_original_copia = df_original.copy()"
   ]
  },
  {
   "cell_type": "code",
   "execution_count": 16,
   "metadata": {},
   "outputs": [],
   "source": [
    "df_original_copia.to_csv('./data/1.raw/copia_Online_Sales_USA')"
   ]
  },
  {
   "cell_type": "markdown",
   "metadata": {},
   "source": [
    "> #### **7.2. ELIMINACIÓN DE COLUMNAS**\n",
    "\n",
    "Luego de un análisis en relación a mis hipótesis y al conjunto datos, procedo a eliminar las columnas que no son relevantes para realizar el EDA. <br>\n",
    "La razón por la cual se elimina cada columna se encuentra detallada en la [Memoria](MEMORIA.ipynb) del presente EDA. "
   ]
  },
  {
   "cell_type": "code",
   "execution_count": 25,
   "metadata": {},
   "outputs": [
    {
     "data": {
      "text/plain": [
       "28"
      ]
     },
     "execution_count": 25,
     "metadata": {},
     "output_type": "execute_result"
    }
   ],
   "source": [
    "columnas_a_eliminar = ['order_id', 'status', 'item_id', 'sku', 'qty_ordered',\n",
    "       'price', 'discount_amount', 'total', 'payment_method', 'bi_st', 'ref_num',\n",
    "       'Name Prefix', 'First Name', 'Middle Initial', 'Last Name', 'full_name', 'E Mail', 'SSN', 'Phone No. ',\n",
    "       'Place Name', 'County', 'Zip', 'year', 'month', 'User Name', 'Gender', 'Customer Since',\n",
    "       'Discount_Percent']\n",
    "\n",
    "len(columnas_a_eliminar) # Corroboro que sea la cantidad exacta de columnas a eliminar"
   ]
  },
  {
   "cell_type": "code",
   "execution_count": 26,
   "metadata": {},
   "outputs": [],
   "source": [
    "df_ventas_online = df_original.drop(columns=columnas_a_eliminar)"
   ]
  },
  {
   "cell_type": "markdown",
   "metadata": {},
   "source": [
    "Por último, verifico que hayan quedado las columnas que son importantes para mi EDA."
   ]
  },
  {
   "cell_type": "code",
   "execution_count": 27,
   "metadata": {},
   "outputs": [
    {
     "data": {
      "text/plain": [
       "Index(['order_date', 'value', 'category', 'cust_id', 'age', 'City', 'State',\n",
       "       'Region'],\n",
       "      dtype='object')"
      ]
     },
     "execution_count": 27,
     "metadata": {},
     "output_type": "execute_result"
    }
   ],
   "source": [
    "df_ventas_online.columns"
   ]
  },
  {
   "cell_type": "markdown",
   "metadata": {},
   "source": [
    "> #### **7.3. TRADUCCIONES**\n",
    "\n",
    "Realizaré la traducción de las etiquetas de las columnas, de los valores contenidos en la variable 'categoria'y 'region', todo ello para que haya un idioma uniforme en todo el análisis."
   ]
  },
  {
   "cell_type": "code",
   "execution_count": 28,
   "metadata": {},
   "outputs": [],
   "source": [
    "# A. TRADUCCIÓN COLUMNAS\n",
    "traduccion_columnas = {\n",
    "    'order_date': 'fecha_de_pedido',\n",
    "    'value': 'valor',\n",
    "    'category': 'categoria',\n",
    "    'cust_id': 'ID_cliente',\n",
    "    'age': 'edad',\n",
    "    'City': 'ciudad',\n",
    "    'State': 'estado',\n",
    "    'Region': 'region'\n",
    "}\n",
    "    \n",
    "df_ventas_online = df_ventas_online.rename(columns= traduccion_columnas)"
   ]
  },
  {
   "cell_type": "code",
   "execution_count": 29,
   "metadata": {},
   "outputs": [],
   "source": [
    "# B. TRADUCCIÓN CATEGORÍAS\n",
    "traduccion_categorias = {\n",
    "    \"Men's Fashion\": 'Moda Hombres',\n",
    "    'Mobiles & Tablets': 'Móviles y Tablets',\n",
    "    'Computing': 'Computadoras',\n",
    "    'Appliances': 'Electrodomésticos',\n",
    "    'Home & Living': 'Hogar y Decoración',\n",
    "    \"Women's Fashion\": 'Moda Mujeres',\n",
    "    'Health & Sports': 'Salud y Deportes',\n",
    "    'Beauty & Grooming': 'Belleza y Cuidado Personal',\n",
    "    'Superstore': 'Supermercado',\n",
    "    'Others': 'Otros',\n",
    "    'Entertainment': 'Entretenimiento',\n",
    "    'Soghaat': 'Artículos de Regalo',\n",
    "    'Kids & Baby': 'Niños y Bebés',\n",
    "    'Books': 'Libros',\n",
    "    'School & Education': 'Escuela y Educación'\n",
    "}\n",
    "\n",
    "df_ventas_online['categoria'] = df_ventas_online['categoria'].replace(traduccion_categorias)"
   ]
  },
  {
   "cell_type": "code",
   "execution_count": 30,
   "metadata": {},
   "outputs": [],
   "source": [
    "# C. TRADUCCIÓN REGIONES\n",
    "traduccion_regiones = {\n",
    "    'South': 'Sur',\n",
    "    'Midwest': 'Medio Oeste',\n",
    "    'West': 'Oeste',\n",
    "    'Northeast': 'Noreste'\n",
    "}\n",
    "\n",
    "df_ventas_online['region'] = df_ventas_online['region'].replace(traduccion_regiones)"
   ]
  },
  {
   "cell_type": "markdown",
   "metadata": {},
   "source": [
    "> #### **7.4. CONVERSIÓN DE COLUMNA A ÍNDICE EN FORMATO DATETIME**\n",
    "\n",
    "Para poder analizar datos relacionados con la variable que contiene las fechas, convertiré la columna 'fecha_de_pedido' en índice, y a su vez en formato datetime."
   ]
  },
  {
   "cell_type": "code",
   "execution_count": 33,
   "metadata": {},
   "outputs": [],
   "source": [
    "df_ventas_online = df_ventas_online.set_index('fecha_de_pedido')"
   ]
  },
  {
   "cell_type": "code",
   "execution_count": 35,
   "metadata": {},
   "outputs": [],
   "source": [
    "df_ventas_online.index = pd.to_datetime(df_ventas_online.index)"
   ]
  },
  {
   "cell_type": "markdown",
   "metadata": {},
   "source": [
    "> #### **7.5. ACTUALIZACIÓN CONJUNTO DE DATOS**\n",
    "\n",
    "Luego de realizar la limpieza, guardo en un nuevo archivo *csv* lo que será el DataFrame principal del EDA."
   ]
  },
  {
   "cell_type": "code",
   "execution_count": 36,
   "metadata": {},
   "outputs": [],
   "source": [
    "df_ventas_online.to_csv('./data/2.processed/df_ventas_online.csv')"
   ]
  },
  {
   "cell_type": "markdown",
   "metadata": {},
   "source": [
    "## 8. ANÁLISIS EXPLORATORIO DE DATOS"
   ]
  },
  {
   "cell_type": "markdown",
   "metadata": {},
   "source": [
    "### 8.1 ANÁLISIS CATEGORÍAS\n"
   ]
  },
  {
   "cell_type": "markdown",
   "metadata": {},
   "source": [
    "#### 8.1.1 DISTRIBUCIÓN DE VENTAS POR CATEGORÍAS DE PRODUCTOS"
   ]
  },
  {
   "cell_type": "markdown",
   "metadata": {},
   "source": [
    "1. Primero quiero averiguar cuántos valores únicos existen en la variable 'categoria' y cuáles son. Seguidamente, realizo un gráfico de barras con `countplot` de la librería 'Seaborn', para observar como se distribuyen las ventas por las 15 categorías existentes. "
   ]
  },
  {
   "cell_type": "code",
   "execution_count": 40,
   "metadata": {},
   "outputs": [
    {
     "data": {
      "text/plain": [
       "15"
      ]
     },
     "execution_count": 40,
     "metadata": {},
     "output_type": "execute_result"
    }
   ],
   "source": [
    "df_ventas_online['categoria'].nunique()"
   ]
  },
  {
   "cell_type": "code",
   "execution_count": 39,
   "metadata": {},
   "outputs": [
    {
     "data": {
      "text/plain": [
       "array(['Moda Hombres', 'Móviles y Tablets', 'Computadoras',\n",
       "       'Electrodomésticos', 'Hogar y Decoración', 'Moda Mujeres',\n",
       "       'Salud y Deportes', 'Belleza y Cuidado Personal', 'Supermercado',\n",
       "       'Otros', 'Entretenimiento', 'Artículos de Regalo', 'Niños y Bebés',\n",
       "       'Libros', 'Escuela y Educación'], dtype=object)"
      ]
     },
     "execution_count": 39,
     "metadata": {},
     "output_type": "execute_result"
    }
   ],
   "source": [
    "df_ventas_online['categoria'].unique()"
   ]
  },
  {
   "cell_type": "code",
   "execution_count": 38,
   "metadata": {},
   "outputs": [
    {
     "name": "stderr",
     "output_type": "stream",
     "text": [
      "C:\\Users\\Ximena\\AppData\\Local\\Temp\\ipykernel_9728\\4053160071.py:4: FutureWarning: \n",
      "\n",
      "Passing `palette` without assigning `hue` is deprecated and will be removed in v0.14.0. Assign the `x` variable to `hue` and set `legend=False` for the same effect.\n",
      "\n",
      "  sns.countplot(x='categoria', data=df_ventas_online, order=df_ventas_online['categoria'].value_counts().index, palette=palette)\n"
     ]
    },
    {
     "data": {
      "image/png": "[encoded data removed]",
      "text/plain": [
       "<Figure size 1200x600 with 1 Axes>"
      ]
     },
     "metadata": {},
     "output_type": "display_data"
    }
   ],
   "source": [
    "palette = sns.color_palette('magma', n_colors=15)\n",
    "\n",
    "plt.figure(figsize=(12, 6))\n",
    "sns.countplot(x='categoria', data=df_ventas_online, order=df_ventas_online['categoria'].value_counts().index, palette=palette)\n",
    "plt.title('DISTRIBUCIÓN DE VENTAS POR CATEGORÍAS DE PRODUCTOS')\n",
    "plt.xlabel('CATEGORÍAS')\n",
    "plt.ylabel('CANTIDAD DE VENTAS')\n",
    "plt.xticks(rotation=45, ha='right')\n",
    "plt.show();"
   ]
  },
  {
   "cell_type": "markdown",
   "metadata": {},
   "source": [
    "2. A continuación, agrupo las categorías en un DataFrame y realizo un conteo de ventas sobre las mismas, para obtener detalladamente los números de ventas por cada categoría. "
   ]
  },
  {
   "cell_type": "code",
   "execution_count": 44,
   "metadata": {},
   "outputs": [
    {
     "data": {
      "text/html": [
       "<div>\n",
       "<style scoped>\n",
       "    .dataframe tbody tr th:only-of-type {\n",
       "        vertical-align: middle;\n",
       "    }\n",
       "\n",
       "    .dataframe tbody tr th {\n",
       "        vertical-align: top;\n",
       "    }\n",
       "\n",
       "    .dataframe thead th {\n",
       "        text-align: right;\n",
       "    }\n",
       "</style>\n",
       "<table border=\"1\" class=\"dataframe\">\n",
       "  <thead>\n",
       "    <tr style=\"text-align: right;\">\n",
       "      <th></th>\n",
       "      <th>categoria</th>\n",
       "      <th>numero_de_ventas</th>\n",
       "    </tr>\n",
       "  </thead>\n",
       "  <tbody>\n",
       "    <tr>\n",
       "      <th>0</th>\n",
       "      <td>Móviles y Tablets</td>\n",
       "      <td>61761</td>\n",
       "    </tr>\n",
       "    <tr>\n",
       "      <th>1</th>\n",
       "      <td>Moda Hombres</td>\n",
       "      <td>40713</td>\n",
       "    </tr>\n",
       "    <tr>\n",
       "      <th>2</th>\n",
       "      <td>Electrodomésticos</td>\n",
       "      <td>33034</td>\n",
       "    </tr>\n",
       "    <tr>\n",
       "      <th>3</th>\n",
       "      <td>Moda Mujeres</td>\n",
       "      <td>28334</td>\n",
       "    </tr>\n",
       "    <tr>\n",
       "      <th>4</th>\n",
       "      <td>Otros</td>\n",
       "      <td>26108</td>\n",
       "    </tr>\n",
       "    <tr>\n",
       "      <th>5</th>\n",
       "      <td>Belleza y Cuidado Personal</td>\n",
       "      <td>17899</td>\n",
       "    </tr>\n",
       "    <tr>\n",
       "      <th>6</th>\n",
       "      <td>Entretenimiento</td>\n",
       "      <td>17352</td>\n",
       "    </tr>\n",
       "    <tr>\n",
       "      <th>7</th>\n",
       "      <td>Supermercado</td>\n",
       "      <td>15024</td>\n",
       "    </tr>\n",
       "    <tr>\n",
       "      <th>8</th>\n",
       "      <td>Hogar y Decoración</td>\n",
       "      <td>13990</td>\n",
       "    </tr>\n",
       "    <tr>\n",
       "      <th>9</th>\n",
       "      <td>Salud y Deportes</td>\n",
       "      <td>8421</td>\n",
       "    </tr>\n",
       "    <tr>\n",
       "      <th>10</th>\n",
       "      <td>Computadoras</td>\n",
       "      <td>8110</td>\n",
       "    </tr>\n",
       "    <tr>\n",
       "      <th>11</th>\n",
       "      <td>Artículos de Regalo</td>\n",
       "      <td>7250</td>\n",
       "    </tr>\n",
       "    <tr>\n",
       "      <th>12</th>\n",
       "      <td>Niños y Bebés</td>\n",
       "      <td>6492</td>\n",
       "    </tr>\n",
       "    <tr>\n",
       "      <th>13</th>\n",
       "      <td>Escuela y Educación</td>\n",
       "      <td>1090</td>\n",
       "    </tr>\n",
       "    <tr>\n",
       "      <th>14</th>\n",
       "      <td>Libros</td>\n",
       "      <td>814</td>\n",
       "    </tr>\n",
       "  </tbody>\n",
       "</table>\n",
       "</div>"
      ],
      "text/plain": [
       "                     categoria  numero_de_ventas\n",
       "0            Móviles y Tablets             61761\n",
       "1                 Moda Hombres             40713\n",
       "2            Electrodomésticos             33034\n",
       "3                 Moda Mujeres             28334\n",
       "4                        Otros             26108\n",
       "5   Belleza y Cuidado Personal             17899\n",
       "6              Entretenimiento             17352\n",
       "7                 Supermercado             15024\n",
       "8           Hogar y Decoración             13990\n",
       "9             Salud y Deportes              8421\n",
       "10                Computadoras              8110\n",
       "11         Artículos de Regalo              7250\n",
       "12               Niños y Bebés              6492\n",
       "13         Escuela y Educación              1090\n",
       "14                      Libros               814"
      ]
     },
     "execution_count": 44,
     "metadata": {},
     "output_type": "execute_result"
    }
   ],
   "source": [
    "df_agrupado_categorias = df_ventas_online.groupby('categoria')['valor'].count().reset_index(name='numero_de_ventas')\n",
    "df_agrupado_categorias.sort_values(by='numero_de_ventas', ascending=False).reset_index().drop(columns='index')"
   ]
  },
  {
   "cell_type": "markdown",
   "metadata": {},
   "source": [
    "#### ***HIGHLIGHTS SOBRE CATEGORÍAS:***\n",
    "\n",
    "**Categorías con mayor cantidad de ventas**: \n",
    "1. Móviles y Tablets = 61761 ventas.\n",
    "2. Moda Hombres = 40713 ventas.\n",
    "3. Electrodomésticos = 33034 ventas.\n",
    "\n",
    "**Categorías con menor cantidad de ventas**: \n",
    "- Niños y Bebés\t= 6492\n",
    "- Escuela y Educación = 1090\n",
    "- Libros = 814"
   ]
  },
  {
   "cell_type": "code",
   "execution_count": 78,
   "metadata": {},
   "outputs": [
    {
     "data": {
      "text/plain": [
       "Text(0.5, 1.0, 'Boxplot de Número de Ventas')"
      ]
     },
     "execution_count": 78,
     "metadata": {},
     "output_type": "execute_result"
    },
    {
     "data": {
      "image/png": "[encoded data removed]",
      "text/plain": [
       "<Figure size 640x480 with 1 Axes>"
      ]
     },
     "metadata": {},
     "output_type": "display_data"
    }
   ],
   "source": [
    "plt.subplot(1, 2, 2)\n",
    "sns.boxplot(y='numero_de_ventas', data=df_agrupado_categorias, color='purple')\n",
    "plt.title('Boxplot de Número de Ventas')"
   ]
  },
  {
   "cell_type": "markdown",
   "metadata": {},
   "source": [
    "4. Histograma para observar la distribución de las ventas por categorías."
   ]
  },
  {
   "cell_type": "code",
   "execution_count": 59,
   "metadata": {},
   "outputs": [
    {
     "data": {
      "image/png": "[encoded data removed]",
      "text/plain": [
       "<Figure size 1000x600 with 1 Axes>"
      ]
     },
     "metadata": {},
     "output_type": "display_data"
    }
   ],
   "source": [
    "plt.figure(figsize=(10, 6))\n",
    "sns.histplot(df_agrupado_categorias['numero_de_ventas'], bins=5, kde=True, color='purple')\n",
    "\n",
    "# Calculo la mediana y la media\n",
    "mediana_ventas = df_agrupado_categorias['numero_de_ventas'].median()\n",
    "media_ventas = df_agrupado_categorias['numero_de_ventas'].mean()\n",
    "\n",
    "# Líneas verticales para la mediana y la media\n",
    "plt.axvline(mediana_ventas, color='yellow', linestyle='dashed', linewidth=3, label='Mediana')\n",
    "plt.axvline(media_ventas, color='salmon', linestyle='dotted', linewidth=4, label='Media')\n",
    "\n",
    "# Título y etiquetas\n",
    "plt.title('DISTRIBUCIÓN CANTIDAD DE VENTAS POR CATEGORÍAS')\n",
    "plt.xlabel('NÚMERO DE VENTAS')\n",
    "plt.ylabel('FRECUENCIA')\n",
    "\n",
    "# Mostrar leyenda\n",
    "plt.legend()\n",
    "\n",
    "# Mostrar el gráfico\n",
    "plt.show()"
   ]
  },
  {
   "cell_type": "markdown",
   "metadata": {},
   "source": [
    "Se puede observar en el histograma una **distribución asimétrica positiva** de las ventas por categorías. \n",
    "Claramente hay algunos valores extremadamente altos que desvían la media hacia la derecha de la mediana, y conforme se pudo ver en el gráfico ut supra, contamos con la presencia de un 'outlier' respecto al resto de las categorías, el cual es, la elevada cantidad de ventas de 'Móviles y Tablets'."
   ]
  },
  {
   "cell_type": "markdown",
   "metadata": {},
   "source": [
    "#### 8.1.2 INGRESOS OBTENIDOS POR CATEGORÍAS DE PRODUCTOS\n",
    "\n",
    "Al igual que analizamos la cantidad de ventas en relación a cada categoría, se analizará los ingresos obtenidos por cada una de ellas. "
   ]
  },
  {
   "cell_type": "code",
   "execution_count": 67,
   "metadata": {},
   "outputs": [
    {
     "data": {
      "text/html": [
       "<div>\n",
       "<style scoped>\n",
       "    .dataframe tbody tr th:only-of-type {\n",
       "        vertical-align: middle;\n",
       "    }\n",
       "\n",
       "    .dataframe tbody tr th {\n",
       "        vertical-align: top;\n",
       "    }\n",
       "\n",
       "    .dataframe thead th {\n",
       "        text-align: right;\n",
       "    }\n",
       "</style>\n",
       "<table border=\"1\" class=\"dataframe\">\n",
       "  <thead>\n",
       "    <tr style=\"text-align: right;\">\n",
       "      <th></th>\n",
       "      <th>categoria</th>\n",
       "      <th>valor</th>\n",
       "    </tr>\n",
       "  </thead>\n",
       "  <tbody>\n",
       "    <tr>\n",
       "      <th>0</th>\n",
       "      <td>Artículos de Regalo</td>\n",
       "      <td>6.223453e+05</td>\n",
       "    </tr>\n",
       "    <tr>\n",
       "      <th>1</th>\n",
       "      <td>Belleza y Cuidado Personal</td>\n",
       "      <td>2.890640e+06</td>\n",
       "    </tr>\n",
       "    <tr>\n",
       "      <th>2</th>\n",
       "      <td>Computadoras</td>\n",
       "      <td>1.035744e+07</td>\n",
       "    </tr>\n",
       "    <tr>\n",
       "      <th>3</th>\n",
       "      <td>Electrodomésticos</td>\n",
       "      <td>3.344141e+07</td>\n",
       "    </tr>\n",
       "    <tr>\n",
       "      <th>4</th>\n",
       "      <td>Entretenimiento</td>\n",
       "      <td>3.042948e+07</td>\n",
       "    </tr>\n",
       "    <tr>\n",
       "      <th>5</th>\n",
       "      <td>Escuela y Educación</td>\n",
       "      <td>1.204539e+05</td>\n",
       "    </tr>\n",
       "    <tr>\n",
       "      <th>6</th>\n",
       "      <td>Hogar y Decoración</td>\n",
       "      <td>1.918317e+06</td>\n",
       "    </tr>\n",
       "    <tr>\n",
       "      <th>7</th>\n",
       "      <td>Libros</td>\n",
       "      <td>3.303033e+04</td>\n",
       "    </tr>\n",
       "    <tr>\n",
       "      <th>8</th>\n",
       "      <td>Moda Hombres</td>\n",
       "      <td>5.163376e+06</td>\n",
       "    </tr>\n",
       "    <tr>\n",
       "      <th>9</th>\n",
       "      <td>Moda Mujeres</td>\n",
       "      <td>7.359614e+06</td>\n",
       "    </tr>\n",
       "    <tr>\n",
       "      <th>10</th>\n",
       "      <td>Móviles y Tablets</td>\n",
       "      <td>1.403984e+08</td>\n",
       "    </tr>\n",
       "    <tr>\n",
       "      <th>11</th>\n",
       "      <td>Niños y Bebés</td>\n",
       "      <td>8.918884e+05</td>\n",
       "    </tr>\n",
       "    <tr>\n",
       "      <th>12</th>\n",
       "      <td>Otros</td>\n",
       "      <td>1.559132e+07</td>\n",
       "    </tr>\n",
       "    <tr>\n",
       "      <th>13</th>\n",
       "      <td>Salud y Deportes</td>\n",
       "      <td>1.122226e+06</td>\n",
       "    </tr>\n",
       "    <tr>\n",
       "      <th>14</th>\n",
       "      <td>Supermercado</td>\n",
       "      <td>3.369000e+06</td>\n",
       "    </tr>\n",
       "  </tbody>\n",
       "</table>\n",
       "</div>"
      ],
      "text/plain": [
       "                     categoria         valor\n",
       "0          Artículos de Regalo  6.223453e+05\n",
       "1   Belleza y Cuidado Personal  2.890640e+06\n",
       "2                 Computadoras  1.035744e+07\n",
       "3            Electrodomésticos  3.344141e+07\n",
       "4              Entretenimiento  3.042948e+07\n",
       "5          Escuela y Educación  1.204539e+05\n",
       "6           Hogar y Decoración  1.918317e+06\n",
       "7                       Libros  3.303033e+04\n",
       "8                 Moda Hombres  5.163376e+06\n",
       "9                 Moda Mujeres  7.359614e+06\n",
       "10           Móviles y Tablets  1.403984e+08\n",
       "11               Niños y Bebés  8.918884e+05\n",
       "12                       Otros  1.559132e+07\n",
       "13            Salud y Deportes  1.122226e+06\n",
       "14                Supermercado  3.369000e+06"
      ]
     },
     "execution_count": 67,
     "metadata": {},
     "output_type": "execute_result"
    }
   ],
   "source": [
    "df_categorias_valor = df_ventas_online.groupby('categoria')[['valor']].sum().reset_index()\n",
    "df_categorias_valor"
   ]
  },
  {
   "cell_type": "code",
   "execution_count": 77,
   "metadata": {},
   "outputs": [
    {
     "data": {
      "text/plain": [
       "Text(0.5, 1.0, 'Boxplot de Ingresos')"
      ]
     },
     "execution_count": 77,
     "metadata": {},
     "output_type": "execute_result"
    },
    {
     "data": {
      "image/png": "[encoded data removed]",
      "text/plain": [
       "<Figure size 1200x500 with 1 Axes>"
      ]
     },
     "metadata": {},
     "output_type": "display_data"
    }
   ],
   "source": [
    "plt.figure(figsize=(12, 5))\n",
    "plt.subplot(1, 2, 1)\n",
    "sns.boxplot(y='valor', data=df_categorias_valor, color='skyblue')\n",
    "plt.title('Boxplot de Ingresos')"
   ]
  },
  {
   "cell_type": "code",
   "execution_count": 76,
   "metadata": {},
   "outputs": [
    {
     "data": {
      "image/png": "[encoded data removed]",
      "text/plain": [
       "<Figure size 1000x600 with 1 Axes>"
      ]
     },
     "metadata": {},
     "output_type": "display_data"
    }
   ],
   "source": [
    "plt.figure(figsize=(10, 6))\n",
    "sns.histplot(df_categorias_valor['valor'], bins=5, kde=True, color='skyblue')\n",
    "\n",
    "# Calculo la mediana y la media\n",
    "mediana_valor = df_categorias_valor['valor'].median()\n",
    "media_valor = df_categorias_valor['valor'].mean()\n",
    "\n",
    "# Líneas verticales para la mediana y la media\n",
    "plt.axvline(mediana_valor, color='yellow', linestyle='dashed', linewidth=3, label='Mediana')\n",
    "plt.axvline(media_valor, color='salmon', linestyle='dotted', linewidth=4, label='Media')\n",
    "\n",
    "# Título y etiquetas\n",
    "plt.title('DISTRIBUCIÓN DE INGRESOS OBTENIDOS POR CATEGORÍAS')\n",
    "plt.xlabel('INGRESOS')\n",
    "plt.ylabel('FRECUENCIA')\n",
    "\n",
    "# Mostrar leyenda\n",
    "plt.legend()\n",
    "\n",
    "# Mostrar el gráfico\n",
    "plt.show()"
   ]
  },
  {
   "cell_type": "markdown",
   "metadata": {},
   "source": [
    "Se puede observar lo mismo que sucedía con las ventas y hasta en mayor volumen, que hay una **distribución asimétrica positiva** de los ingresos obtenidos por categorías. \n",
    "Claramente en la cola hacia la derecha se encuentra el valor más alto obtenido por la gran cantidad de ventas en 'Móviles y Tablets'.\n",
    " que desvían la media hacia la derecha de la mediana, y conforme se pudo ver en el gráfico ut supra, contamos con la presencia de un 'outlier' respecto al resto de las categorías, el cual es, la elevada cantidad de ventas de 'Móviles y Tablets'."
   ]
  }
 ],
 "metadata": {
  "kernelspec": {
   "display_name": "Python 3",
   "language": "python",
   "name": "python3"
  },
  "language_info": {
   "codemirror_mode": {
    "name": "ipython",
    "version": 3
   },
   "file_extension": ".py",
   "mimetype": "text/x-python",
   "name": "python",
   "nbconvert_exporter": "python",
   "pygments_lexer": "ipython3",
   "version": "3.11.5"
  }
 },
 "nbformat": 4,
 "nbformat_minor": 2
}
